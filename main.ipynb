{
 "cells": [
  {
   "cell_type": "code",
   "execution_count": 3,
   "metadata": {},
   "outputs": [
    {
     "name": "stdout",
     "output_type": "stream",
     "text": [
      "F博士が発見開発した乳酸菌 ヨーグルトや甘いドリンクなんかに入っているものと同じなんですか? 何ですか?この写真は いろんな乳酸菌の働きを比較した表ですね うわー、悪玉菌っていてほしくないやつですね\n"
     ]
    }
   ],
   "source": [
    "import openai\n",
    "\n",
    "file = open(\"./data/test.mp3\", \"rb\")\n",
    "transcription = openai.Audio.transcribe(\"whisper-1\", file)\n",
    "\n",
    "print(transcription[\"text\"])\n"
   ]
  }
 ],
 "metadata": {
  "kernelspec": {
   "display_name": ".venv",
   "language": "python",
   "name": "python3"
  },
  "language_info": {
   "codemirror_mode": {
    "name": "ipython",
    "version": 3
   },
   "file_extension": ".py",
   "mimetype": "text/x-python",
   "name": "python",
   "nbconvert_exporter": "python",
   "pygments_lexer": "ipython3",
   "version": "3.11.4"
  },
  "orig_nbformat": 4
 },
 "nbformat": 4,
 "nbformat_minor": 2
}
